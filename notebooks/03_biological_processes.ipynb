{
 "cells": [
  {
   "cell_type": "code",
   "execution_count": 1,
   "metadata": {},
   "outputs": [],
   "source": [
    "import csv\n",
    "import pandas as pd\n",
    "\n",
    "with open(\"../data/msigdb_gobp.tsv\", \"r\") as f:\n",
    "    reader = csv.reader(f, delimiter=\"\\t\")\n",
    "    R = []\n",
    "    for r in reader:\n",
    "        R += [r]\n",
    "df = pd.DataFrame(R, columns=[\"key\", \"feature\"])\n",
    "\n"
   ]
  },
  {
   "cell_type": "code",
   "execution_count": 2,
   "metadata": {},
   "outputs": [],
   "source": [
    "import numpy as np\n",
    "\n",
    "def pairs_to_dense(pairs):\n",
    "    pairs = pd.DataFrame(pairs)\n",
    "    pairs_columns = list(pairs.columns)\n",
    "    rows = sorted(set(pairs[pairs_columns[0]]))\n",
    "    cols = sorted(set(pairs[pairs_columns[1]]))\n",
    "    X = np.zeros((len(rows), len(cols)), dtype=int)\n",
    "    rows_idxs = dict((k,i) for i,k in enumerate(rows))\n",
    "    cols_idxs = dict((k,i) for i,k in enumerate(cols))\n",
    "    for r in pairs.values:\n",
    "        X[rows_idxs[r[0]], cols_idxs[r[1]]] += 1\n",
    "    df = pd.DataFrame(X, columns=cols, index=rows)\n",
    "    return df\n",
    "\n",
    "dd = pairs_to_dense(df)\n"
   ]
  },
  {
   "cell_type": "code",
   "execution_count": 3,
   "metadata": {},
   "outputs": [],
   "source": [
    "from tqdm import tqdm\n",
    "\n",
    "def filter_underrepresented_features(df, min_freq=5):\n",
    "    if min_freq < 1:\n",
    "        min_freq = int(df.shape[0]*min_freq)+1\n",
    "    else:\n",
    "        min_freq = int(min_freq)\n",
    "    columns = list(df.columns)\n",
    "    keep = []\n",
    "    for c in tqdm(columns):\n",
    "        if np.sum(df[c]) >= min_freq:\n",
    "            keep += [c]\n",
    "    return df[keep]\n",
    "\n",
    "\n",
    "def filter_overrepresented_features(df, max_freq=0.9):\n",
    "    if max_freq <= 1:\n",
    "        max_freq = int(df.shape[0]*max_freq)\n",
    "    else:\n",
    "        max_freq = int(max_freq)\n",
    "    columns = list(df.columns)\n",
    "    keep = []\n",
    "    for c in tqdm(columns):\n",
    "        if np.sum(df[c]) <= max_freq:\n",
    "            keep += [c]\n",
    "    return df[keep]\n",
    "\n",
    "\n",
    "from sklearn.feature_extraction.text import TfidfTransformer\n",
    "\n",
    "class TfidfVectorizer(object):\n",
    "\n",
    "    def __init__(self):\n",
    "        self.model = TfidfTransformer()\n",
    "        \n",
    "    def fit(self, data):\n",
    "        self.index = list(data.index)\n",
    "        self.columns = list(data.columns)\n",
    "        X = np.array(data)\n",
    "        self.model.fit(X)\n",
    "\n",
    "    def transform(self, X):\n",
    "        X = self.model.transform(X).todense()\n",
    "        return pd.DataFrame(X, index=self.index, columns=self.columns)"
   ]
  },
  {
   "cell_type": "code",
   "execution_count": 4,
   "metadata": {},
   "outputs": [
    {
     "name": "stderr",
     "output_type": "stream",
     "text": [
      "100%|██████████| 7656/7656 [00:01<00:00, 5416.49it/s]\n"
     ]
    }
   ],
   "source": [
    "dd = filter_underrepresented_features(dd, 5)"
   ]
  },
  {
   "cell_type": "code",
   "execution_count": 5,
   "metadata": {},
   "outputs": [
    {
     "name": "stderr",
     "output_type": "stream",
     "text": [
      "100%|██████████| 7579/7579 [00:00<00:00, 11713.04it/s]\n"
     ]
    }
   ],
   "source": [
    "dd = filter_overrepresented_features(dd)"
   ]
  },
  {
   "cell_type": "code",
   "execution_count": 6,
   "metadata": {},
   "outputs": [],
   "source": [
    "mdl = TfidfVectorizer()"
   ]
  },
  {
   "cell_type": "code",
   "execution_count": 7,
   "metadata": {},
   "outputs": [],
   "source": [
    "mdl.fit(dd)"
   ]
  },
  {
   "cell_type": "code",
   "execution_count": 9,
   "metadata": {},
   "outputs": [],
   "source": [
    "%matplotlib inline\n",
    "import matplotlib.pyplot as plt\n",
    "\n",
    "data = mdl.transform(dd)"
   ]
  },
  {
   "cell_type": "code",
   "execution_count": 16,
   "metadata": {},
   "outputs": [
    {
     "data": {
      "text/plain": [
       "UMAP(tqdm_kwds={'bar_format': '{desc}: {percentage:3.0f}%| {bar} {n_fmt}/{total_fmt} [{elapsed}]', 'desc': 'Epochs completed', 'disable': True})"
      ]
     },
     "execution_count": 16,
     "metadata": {},
     "output_type": "execute_result"
    }
   ],
   "source": [
    "from umap import UMAP\n",
    "\n",
    "reducer = UMAP()\n",
    "reducer.fit(np.array(data).T)"
   ]
  },
  {
   "cell_type": "code",
   "execution_count": 20,
   "metadata": {},
   "outputs": [
    {
     "name": "stdout",
     "output_type": "stream",
     "text": [
      "Using matplotlib backend: TkAgg\n"
     ]
    }
   ],
   "source": [
    "%matplotlib\n",
    "\n",
    "import matplotlib.pyplot as plt\n",
    "\n",
    "Xc = reducer.transform(np.array(data).T)"
   ]
  },
  {
   "cell_type": "code",
   "execution_count": 22,
   "metadata": {},
   "outputs": [],
   "source": [
    "from griddify import Cloud2Grid\n",
    "\n",
    "cg = Cloud2Grid(max_side=10)\n",
    "cg.fit(Xc)\n",
    "Xg = cg.transform(Xc, as_integers=False)"
   ]
  },
  {
   "cell_type": "code",
   "execution_count": 23,
   "metadata": {},
   "outputs": [
    {
     "data": {
      "text/plain": [
       "<AxesSubplot:>"
      ]
     },
     "execution_count": 23,
     "metadata": {},
     "output_type": "execute_result"
    }
   ],
   "source": [
    "from griddify.plots import arrows_plot\n",
    "\n",
    "arrows_plot(Xc, Xg, capping_distance=0.5)"
   ]
  },
  {
   "cell_type": "code",
   "execution_count": null,
   "metadata": {},
   "outputs": [],
   "source": []
  }
 ],
 "metadata": {
  "interpreter": {
   "hash": "ea203ce2c8e5ab8f0463e4d18f81717a94351a5cf0de61a703948cd7fff8ced2"
  },
  "kernelspec": {
   "display_name": "Python 3.7.12 ('tab2grid')",
   "language": "python",
   "name": "python3"
  },
  "language_info": {
   "codemirror_mode": {
    "name": "ipython",
    "version": 3
   },
   "file_extension": ".py",
   "mimetype": "text/x-python",
   "name": "python",
   "nbconvert_exporter": "python",
   "pygments_lexer": "ipython3",
   "version": "3.7.12"
  },
  "orig_nbformat": 4
 },
 "nbformat": 4,
 "nbformat_minor": 2
}
