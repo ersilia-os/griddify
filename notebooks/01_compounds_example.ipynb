{
 "cells": [
  {
   "cell_type": "code",
   "execution_count": 123,
   "metadata": {},
   "outputs": [],
   "source": [
    "from griddify import datasets\n",
    "\n",
    "data = datasets.get_compound_descriptors()"
   ]
  },
  {
   "cell_type": "code",
   "execution_count": 124,
   "metadata": {},
   "outputs": [],
   "source": [
    "from scipy.spatial.distance import squareform\n",
    "from scipy.spatial.distance import pdist\n",
    "\n",
    "class FeatureDistances(object):\n",
    "\n",
    "    def __init__(self, metric=\"euclidean\", max_n=10000):\n",
    "        self.metric = metric\n",
    "        self.max_n = max_n\n",
    "\n",
    "    def calculate(self, data):\n",
    "        D = squareform(pdist(np.array(data).T[:self.max_n,:], metric=self.metric))\n",
    "        D[np.isnan(D)] = 0\n",
    "        return D\n",
    "\n",
    "\n",
    "fd = FeatureDistances().calculate(data)"
   ]
  },
  {
   "cell_type": "code",
   "execution_count": 131,
   "metadata": {},
   "outputs": [],
   "source": [
    "import numpy as np\n",
    "from umap import UMAP\n",
    "from sklearn.preprocessing import StandardScaler, MinMaxScaler\n",
    "\n",
    "\n",
    "ZSCORE_CLIP = (-5, 5)\n",
    "\n",
    "\n",
    "class Tabular2Cloud(object):\n",
    "\n",
    "    def __init__(self, reducer=\"umap\"):\n",
    "        if type(reducer) is str:\n",
    "            if reducer == \"umap\":\n",
    "                self.reducer = UMAP() # TODO: add more reducers, e.g. tSNE, PCA\n",
    "            else:\n",
    "                raise Exception(\"Reducer {0} is not recognized\".format(reducer))\n",
    "        else:\n",
    "            self.reducer = reducer\n",
    "        self.standard_scaler = StandardScaler()\n",
    "        self.minmax_scaler = MinMaxScaler()\n",
    "        self.zscore_clip = ZSCORE_CLIP\n",
    "\n",
    "    def _clip(self, X):\n",
    "        return np.clip(X, self.zscore_clip[0], self.zscore_clip[1])\n",
    "\n",
    "    def fit(self, X):\n",
    "        self.reducer.fit(X)\n",
    "        Xt = self.reducer.transform(X)\n",
    "        self.standard_scaler.fit(Xt)\n",
    "        Xt = self.standard_scaler.transform(Xt)\n",
    "        Xt = self._clip(Xt) \n",
    "        self.minmax_scaler.fit(Xt)\n",
    "\n",
    "    def transform(self, X):\n",
    "        Xt = self.reducer.transform(X)\n",
    "        Xt = self.standard_scaler.transform(Xt)\n",
    "        Xt = self._clip(Xt)\n",
    "        Xt = self.minmax_scaler.transform(Xt)\n",
    "        return Xt\n",
    "\n",
    "\n",
    "tc = Tabular2Cloud()\n"
   ]
  },
  {
   "cell_type": "code",
   "execution_count": 125,
   "metadata": {},
   "outputs": [
    {
     "name": "stderr",
     "output_type": "stream",
     "text": [
      "/home/mduranfrigola/miniconda3/envs/tab2grid/lib/python3.7/site-packages/umap/umap_.py:1780: UserWarning: using precomputed metric; inverse_transform will be unavailable\n",
      "  warn(\"using precomputed metric; inverse_transform will be unavailable\")\n"
     ]
    },
    {
     "data": {
      "text/plain": [
       "UMAP(metric='precomputed', tqdm_kwds={'bar_format': '{desc}: {percentage:3.0f}%| {bar} {n_fmt}/{total_fmt} [{elapsed}]', 'desc': 'Epochs completed', 'disable': True})"
      ]
     },
     "execution_count": 125,
     "metadata": {},
     "output_type": "execute_result"
    }
   ],
   "source": [
    "from umap import UMAP\n",
    "\n",
    "reducer = UMAP(metric=\"precomputed\")\n",
    "reducer.fit(fd)"
   ]
  },
  {
   "cell_type": "code",
   "execution_count": 126,
   "metadata": {},
   "outputs": [],
   "source": [
    "%matplotlib inline\n",
    "import matplotlib.pyplot as plt"
   ]
  },
  {
   "cell_type": "code",
   "execution_count": 127,
   "metadata": {},
   "outputs": [
    {
     "data": {
      "text/plain": [
       "<matplotlib.collections.PathCollection at 0x7f33b5be8d10>"
      ]
     },
     "execution_count": 127,
     "metadata": {},
     "output_type": "execute_result"
    },
    {
     "data": {
      "image/png": "[encoded data removed]",
      "text/plain": [
       "<Figure size 432x288 with 1 Axes>"
      ]
     },
     "metadata": {
      "needs_background": "light"
     },
     "output_type": "display_data"
    }
   ],
   "source": [
    "Xc = reducer.transform(fd)\n",
    "plt.scatter(Xc[:,0], Xc[:,1])"
   ]
  },
  {
   "cell_type": "code",
   "execution_count": 128,
   "metadata": {},
   "outputs": [],
   "source": [
    "import numpy as np\n",
    "import lap\n",
    "from scipy.spatial.distance import cdist\n",
    "from sklearn.neighbors import NearestNeighbors\n",
    "from sklearn.cluster import KMeans\n",
    "\n",
    "\n",
    "GRIDDIFY_METRIC = \"sqeuclidean\"\n",
    "\n",
    "\n",
    "class Cloud2Grid(object):\n",
    "\n",
    "    def __init__(self, max_side=128):\n",
    "        self._max_side=max_side\n",
    "        self._clusters=None\n",
    "\n",
    "    def _is_cloud(self, X):\n",
    "        if len(X.shape) != 2:\n",
    "            return False\n",
    "        if X.shape[1] != 2:\n",
    "            return False\n",
    "        return True\n",
    "\n",
    "    def _find_side(self, X):\n",
    "        side = int(np.sqrt(X.shape[0]))\n",
    "        if side > self._max_side:\n",
    "            side = self._max_side\n",
    "        return side\n",
    "\n",
    "    def _needs_downsampling(self, X):\n",
    "        avail = self._side**2\n",
    "        assert avail <= X.shape[0]\n",
    "        if avail == X.shape[0]:\n",
    "            return False\n",
    "        else:\n",
    "            return True\n",
    "\n",
    "    def _downsample_with_clustering(self, X):\n",
    "        self._clusters = KMeans(n_clusters=self._side**2)\n",
    "        self._clusters.fit(X)\n",
    "        centroids = self._clusters.cluster_centers_\n",
    "        return centroids\n",
    "\n",
    "    def _griddify(self, X):\n",
    "        xv, yv = np.meshgrid(np.linspace(0, 1, self._side), np.linspace(0, 1, self._side))\n",
    "        self.grid = np.dstack((xv, yv)).reshape(-1, 2)\n",
    "        cost = cdist(self.grid, X, GRIDDIFY_METRIC)\n",
    "        cost = cost * (1000000 / cost.max())\n",
    "        cost = cost.astype(int)\n",
    "        min_cost, row_assigns, col_assigns = lap.lapjv(cost)\n",
    "        self._grid_jv = self.grid[col_assigns]\n",
    "        self._min_cost = min_cost\n",
    "        self._row_assigns = row_assigns\n",
    "        self._col_assigns = col_assigns\n",
    "\n",
    "    def _grid_coordinates_as_integers(self, X):\n",
    "        X = X*self._side\n",
    "        X = X.astype(int)\n",
    "        return X\n",
    "\n",
    "    def fit(self, X):\n",
    "        assert self._is_cloud(X)\n",
    "        self._side = self._find_side(X)\n",
    "        self._do_cluster = self._needs_downsampling(X)\n",
    "        if self._do_cluster:\n",
    "            X = self._downsample_with_clustering(X)\n",
    "        self._griddify(X)\n",
    "        self.nearest_neighbors = NearestNeighbors(n_neighbors=1)\n",
    "        self.nearest_neighbors.fit(X)\n",
    "\n",
    "    def transform(self, X, as_integers=False):\n",
    "        assert self._is_cloud(X)\n",
    "        idxs = self.nearest_neighbors.kneighbors(X, return_distance=False)\n",
    "        X_grid = np.zeros((X.shape[0], 2))\n",
    "        for i, idx in enumerate(idxs[:,0]):\n",
    "            X_grid[i] = self._grid_jv[idx]\n",
    "        if as_integers:\n",
    "            return self._grid_coordinates_as_integers(X_grid)\n",
    "        else:\n",
    "            return X_grid\n",
    "\n",
    "cg = Cloud2Grid(max_side=128)\n",
    "cg.fit(Xc)\n",
    "Xg = cg.transform(Xc, as_integers=False)"
   ]
  },
  {
   "cell_type": "code",
   "execution_count": 129,
   "metadata": {},
   "outputs": [],
   "source": [
    "from scipy.spatial.distance import euclidean\n",
    "import matplotlib as mpl\n",
    "from matplotlib import cm\n",
    "\n",
    "\n",
    "def arrows_plot(X_cloud, X_grid, ax, capping_distance=0.5):\n",
    "    cmap = cm.get_cmap(\"viridis\")\n",
    "    dists = []\n",
    "    for start, end in zip(X_cloud, X_grid):\n",
    "        dists += [euclidean(start, end)]\n",
    "    norm = mpl.colors.Normalize(vmin=0, vmax=capping_distance)\n",
    "    values = [norm(x) for x in dists]\n",
    "    colors = [cmap(x) for x in values]\n",
    "    i = 0\n",
    "    for start, end in zip(X_cloud, X_grid):\n",
    "        color = colors[i]\n",
    "        ax.arrow(start[0], start[1], end[0] - start[0], end[1] - start[1], head_length=0.01, head_width=0.01, color=color)\n",
    "        i += 1\n",
    "    return ax"
   ]
  },
  {
   "cell_type": "code",
   "execution_count": 130,
   "metadata": {},
   "outputs": [
    {
     "data": {
      "text/plain": [
       "<AxesSubplot:>"
      ]
     },
     "execution_count": 130,
     "metadata": {},
     "output_type": "execute_result"
    },
    {
     "data": {
      "image/png": "[encoded data removed]",
      "text/plain": [
       "<Figure size 360x360 with 1 Axes>"
      ]
     },
     "metadata": {
      "needs_background": "light"
     },
     "output_type": "display_data"
    }
   ],
   "source": [
    "fig, ax = plt.subplots(1,1, figsize=(5,5))\n",
    "\n",
    "arrows_plot(Xc, Xg, ax=ax, capping_distance=0.5)"
   ]
  },
  {
   "cell_type": "code",
   "execution_count": 122,
   "metadata": {},
   "outputs": [
    {
     "ename": "AttributeError",
     "evalue": "'Cloud2Grid' object has no attribute 'get_empty_grid'",
     "output_type": "error",
     "traceback": [
      "\u001b[0;31m---------------------------------------------------------------------------\u001b[0m",
      "\u001b[0;31mAttributeError\u001b[0m                            Traceback (most recent call last)",
      "\u001b[0;32m/tmp/ipykernel_712667/2556927180.py\u001b[0m in \u001b[0;36m<module>\u001b[0;34m\u001b[0m\n\u001b[1;32m     25\u001b[0m         \u001b[0;32mreturn\u001b[0m \u001b[0mnp\u001b[0m\u001b[0;34m.\u001b[0m\u001b[0marray\u001b[0m\u001b[0;34m(\u001b[0m\u001b[0mXt\u001b[0m\u001b[0;34m)\u001b[0m\u001b[0;34m\u001b[0m\u001b[0;34m\u001b[0m\u001b[0m\n\u001b[1;32m     26\u001b[0m \u001b[0;34m\u001b[0m\u001b[0m\n\u001b[0;32m---> 27\u001b[0;31m \u001b[0mtg\u001b[0m \u001b[0;34m=\u001b[0m \u001b[0mTabular2Grid\u001b[0m\u001b[0;34m(\u001b[0m\u001b[0mcg\u001b[0m\u001b[0;34m)\u001b[0m\u001b[0;34m\u001b[0m\u001b[0;34m\u001b[0m\u001b[0m\n\u001b[0m\u001b[1;32m     28\u001b[0m \u001b[0mtg\u001b[0m\u001b[0;34m.\u001b[0m\u001b[0mfit\u001b[0m\u001b[0;34m(\u001b[0m\u001b[0mXg\u001b[0m\u001b[0;34m)\u001b[0m\u001b[0;34m\u001b[0m\u001b[0;34m\u001b[0m\u001b[0m\n",
      "\u001b[0;32m/tmp/ipykernel_712667/2556927180.py\u001b[0m in \u001b[0;36m__init__\u001b[0;34m(self, cloud2grid)\u001b[0m\n\u001b[1;32m      8\u001b[0m     \u001b[0;32mdef\u001b[0m \u001b[0m__init__\u001b[0m\u001b[0;34m(\u001b[0m\u001b[0mself\u001b[0m\u001b[0;34m,\u001b[0m \u001b[0mcloud2grid\u001b[0m\u001b[0;34m)\u001b[0m\u001b[0;34m:\u001b[0m\u001b[0;34m\u001b[0m\u001b[0;34m\u001b[0m\u001b[0m\n\u001b[1;32m      9\u001b[0m         \u001b[0mself\u001b[0m\u001b[0;34m.\u001b[0m\u001b[0m_size\u001b[0m \u001b[0;34m=\u001b[0m \u001b[0mcloud2grid\u001b[0m\u001b[0;34m.\u001b[0m\u001b[0m_side\u001b[0m\u001b[0;34m\u001b[0m\u001b[0;34m\u001b[0m\u001b[0m\n\u001b[0;32m---> 10\u001b[0;31m         \u001b[0mself\u001b[0m\u001b[0;34m.\u001b[0m\u001b[0m_empty_grid\u001b[0m \u001b[0;34m=\u001b[0m \u001b[0mcloud2grid\u001b[0m\u001b[0;34m.\u001b[0m\u001b[0mget_empty_grid\u001b[0m\u001b[0;34m(\u001b[0m\u001b[0;34m)\u001b[0m\u001b[0;34m\u001b[0m\u001b[0;34m\u001b[0m\u001b[0m\n\u001b[0m\u001b[1;32m     11\u001b[0m \u001b[0;34m\u001b[0m\u001b[0m\n\u001b[1;32m     12\u001b[0m     \u001b[0;32mdef\u001b[0m \u001b[0mfit\u001b[0m\u001b[0;34m(\u001b[0m\u001b[0mself\u001b[0m\u001b[0;34m,\u001b[0m \u001b[0mX_grid\u001b[0m\u001b[0;34m)\u001b[0m\u001b[0;34m:\u001b[0m\u001b[0;34m\u001b[0m\u001b[0;34m\u001b[0m\u001b[0m\n",
      "\u001b[0;31mAttributeError\u001b[0m: 'Cloud2Grid' object has no attribute 'get_empty_grid'"
     ]
    }
   ],
   "source": [
    "Xg = cg.transform(Xc, as_integers=True)\n",
    "\n",
    "import numpy as np\n",
    "\n",
    "\n",
    "class Tabular2Grid(object):\n",
    "\n",
    "    def __init__(self, cloud2grid):\n",
    "        self._size = cloud2grid._side\n",
    "        self._empty_grid = cloud2grid.get_empty_grid()\n",
    "        \n",
    "    def fit(self, X_grid):\n",
    "        assert X_grid.astype(int) == X_grid\n",
    "        self._mapper = X_grid\n",
    "        \n",
    "    def transform(self, X):\n",
    "        Xt = []\n",
    "        for i in X.shape[0]:\n",
    "            g = self._empty_grid.copy()\n",
    "            x = X[i,:]\n",
    "            for j, v in enumerate(x):\n",
    "                idx_i, idx_j = self._mapper[j]\n",
    "                g[idx_i, idx_j] = v\n",
    "            Xt += [g]\n",
    "        return np.array(Xt)\n",
    "\n",
    "tg = Tabular2Grid(cg)\n",
    "tg.fit(Xg)"
   ]
  },
  {
   "cell_type": "code",
   "execution_count": 70,
   "metadata": {},
   "outputs": [
    {
     "data": {
      "image/png": "[encoded data removed]",
      "text/plain": [
       "<Figure size 432x288 with 1 Axes>"
      ]
     },
     "metadata": {
      "needs_background": "light"
     },
     "output_type": "display_data"
    }
   ],
   "source": [
    "from sklearn.preprocessing import MinMaxScaler\n",
    "\n",
    "scaler = MinMaxScaler()\n",
    "scaler.fit(Xc)\n",
    "Xc = scaler.transform(Xc)\n",
    "\n",
    "for start, end in zip(Xc, Xg):\n",
    "    plt.arrow(start[0], start[1], end[0] - start[0], end[1] - start[1],\n",
    "              head_length=0.01, head_width=0.01)\n",
    "plt.show()"
   ]
  },
  {
   "cell_type": "code",
   "execution_count": 58,
   "metadata": {},
   "outputs": [
    {
     "data": {
      "text/plain": [
       "array([[0.69230769, 0.        ],\n",
       "       [1.        , 0.84615385],\n",
       "       [1.        , 0.15384615],\n",
       "       [0.92307692, 0.23076923],\n",
       "       [0.92307692, 0.30769231],\n",
       "       [0.84615385, 0.07692308],\n",
       "       [0.76923077, 0.53846154],\n",
       "       [0.76923077, 0.23076923],\n",
       "       [0.76923077, 0.07692308],\n",
       "       [0.76923077, 0.30769231],\n",
       "       [0.69230769, 0.23076923],\n",
       "       [0.69230769, 0.53846154],\n",
       "       [0.69230769, 0.61538462],\n",
       "       [0.69230769, 0.69230769],\n",
       "       [0.84615385, 0.84615385],\n",
       "       [0.84615385, 0.69230769],\n",
       "       [0.30769231, 0.76923077],\n",
       "       [0.84615385, 0.61538462],\n",
       "       [0.92307692, 0.07692308],\n",
       "       [0.92307692, 0.61538462],\n",
       "       [0.84615385, 0.        ],\n",
       "       [0.92307692, 0.        ],\n",
       "       [1.        , 0.23076923],\n",
       "       [1.        , 0.        ],\n",
       "       [0.76923077, 1.        ],\n",
       "       [1.        , 0.76923077],\n",
       "       [0.53846154, 0.30769231],\n",
       "       [0.53846154, 0.38461538],\n",
       "       [0.61538462, 0.23076923],\n",
       "       [0.38461538, 0.30769231],\n",
       "       [0.        , 0.23076923],\n",
       "       [0.92307692, 0.69230769],\n",
       "       [1.        , 0.92307692],\n",
       "       [0.        , 0.53846154],\n",
       "       [1.        , 0.30769231],\n",
       "       [0.76923077, 0.61538462],\n",
       "       [0.61538462, 1.        ],\n",
       "       [0.92307692, 0.84615385],\n",
       "       [0.84615385, 0.23076923],\n",
       "       [0.46153846, 0.07692308],\n",
       "       [0.84615385, 0.15384615],\n",
       "       [0.38461538, 0.23076923],\n",
       "       [0.23076923, 0.        ],\n",
       "       [0.30769231, 0.15384615],\n",
       "       [0.        , 0.30769231],\n",
       "       [0.07692308, 0.38461538],\n",
       "       [0.61538462, 0.76923077],\n",
       "       [1.        , 0.69230769],\n",
       "       [1.        , 1.        ],\n",
       "       [0.61538462, 0.07692308],\n",
       "       [0.76923077, 0.92307692],\n",
       "       [0.46153846, 0.69230769],\n",
       "       [0.46153846, 0.46153846],\n",
       "       [0.46153846, 0.61538462],\n",
       "       [0.61538462, 0.61538462],\n",
       "       [0.53846154, 0.46153846],\n",
       "       [0.61538462, 0.38461538],\n",
       "       [0.69230769, 0.92307692],\n",
       "       [0.53846154, 0.15384615],\n",
       "       [0.76923077, 0.76923077],\n",
       "       [0.46153846, 0.92307692],\n",
       "       [0.69230769, 0.76923077],\n",
       "       [0.38461538, 0.53846154],\n",
       "       [0.38461538, 0.38461538],\n",
       "       [0.46153846, 0.53846154],\n",
       "       [0.92307692, 0.92307692],\n",
       "       [0.84615385, 0.46153846],\n",
       "       [0.76923077, 0.46153846],\n",
       "       [0.61538462, 0.92307692],\n",
       "       [0.69230769, 1.        ],\n",
       "       [0.61538462, 0.46153846],\n",
       "       [0.61538462, 0.        ],\n",
       "       [0.76923077, 0.84615385],\n",
       "       [0.69230769, 0.84615385],\n",
       "       [0.53846154, 0.69230769],\n",
       "       [0.53846154, 0.53846154],\n",
       "       [1.        , 0.07692308],\n",
       "       [1.        , 0.38461538],\n",
       "       [0.92307692, 0.46153846],\n",
       "       [0.92307692, 0.15384615],\n",
       "       [0.69230769, 0.46153846],\n",
       "       [0.84615385, 0.92307692],\n",
       "       [1.        , 0.15384615],\n",
       "       [0.30769231, 0.38461538],\n",
       "       [0.76923077, 0.38461538],\n",
       "       [0.76923077, 0.15384615],\n",
       "       [0.84615385, 1.        ],\n",
       "       [0.92307692, 0.38461538],\n",
       "       [1.        , 0.53846154],\n",
       "       [0.07692308, 0.46153846],\n",
       "       [0.69230769, 0.30769231],\n",
       "       [0.76923077, 0.69230769],\n",
       "       [0.61538462, 0.84615385],\n",
       "       [0.61538462, 0.53846154],\n",
       "       [0.69230769, 0.15384615],\n",
       "       [0.92307692, 0.76923077],\n",
       "       [0.84615385, 0.30769231],\n",
       "       [0.76923077, 0.        ],\n",
       "       [0.92307692, 1.        ],\n",
       "       [1.        , 0.46153846],\n",
       "       [0.46153846, 0.23076923],\n",
       "       [0.61538462, 0.69230769],\n",
       "       [0.23076923, 1.        ],\n",
       "       [1.        , 0.61538462],\n",
       "       [0.84615385, 0.76923077],\n",
       "       [0.53846154, 0.23076923],\n",
       "       [0.92307692, 0.53846154],\n",
       "       [0.84615385, 0.53846154],\n",
       "       [0.69230769, 0.07692308],\n",
       "       [0.15384615, 0.07692308],\n",
       "       [0.84615385, 0.38461538],\n",
       "       [0.61538462, 0.30769231],\n",
       "       [0.69230769, 0.38461538],\n",
       "       [0.30769231, 0.        ],\n",
       "       [0.        , 0.        ],\n",
       "       [0.23076923, 0.15384615],\n",
       "       [0.15384615, 0.        ],\n",
       "       [0.38461538, 1.        ],\n",
       "       [0.30769231, 1.        ],\n",
       "       [0.53846154, 0.61538462],\n",
       "       [0.07692308, 0.53846154],\n",
       "       [0.07692308, 0.07692308],\n",
       "       [0.07692308, 0.        ],\n",
       "       [0.07692308, 0.        ],\n",
       "       [0.53846154, 0.07692308],\n",
       "       [0.53846154, 0.        ],\n",
       "       [0.07692308, 0.30769231],\n",
       "       [0.        , 1.        ],\n",
       "       [0.15384615, 0.46153846],\n",
       "       [0.53846154, 0.76923077],\n",
       "       [0.53846154, 0.        ],\n",
       "       [0.53846154, 1.        ],\n",
       "       [0.        , 0.84615385],\n",
       "       [0.        , 0.76923077],\n",
       "       [0.30769231, 0.23076923],\n",
       "       [0.        , 0.61538462],\n",
       "       [0.07692308, 0.69230769],\n",
       "       [0.        , 0.46153846],\n",
       "       [0.        , 0.92307692],\n",
       "       [0.23076923, 0.23076923],\n",
       "       [0.        , 0.15384615],\n",
       "       [0.46153846, 0.        ],\n",
       "       [0.30769231, 0.69230769],\n",
       "       [0.46153846, 0.15384615],\n",
       "       [0.38461538, 0.07692308],\n",
       "       [0.23076923, 0.53846154],\n",
       "       [0.07692308, 0.92307692],\n",
       "       [0.46153846, 0.84615385],\n",
       "       [0.61538462, 0.15384615],\n",
       "       [0.07692308, 0.23076923],\n",
       "       [0.38461538, 0.46153846],\n",
       "       [0.15384615, 0.84615385],\n",
       "       [0.        , 0.38461538],\n",
       "       [0.        , 0.69230769],\n",
       "       [0.23076923, 0.07692308],\n",
       "       [0.38461538, 0.15384615],\n",
       "       [0.07692308, 0.76923077],\n",
       "       [0.23076923, 0.69230769],\n",
       "       [0.46153846, 0.38461538],\n",
       "       [0.23076923, 1.        ],\n",
       "       [0.15384615, 1.        ],\n",
       "       [0.07692308, 0.84615385],\n",
       "       [0.53846154, 0.92307692],\n",
       "       [0.30769231, 0.61538462],\n",
       "       [0.15384615, 0.38461538],\n",
       "       [0.07692308, 0.15384615],\n",
       "       [0.        , 0.07692308],\n",
       "       [0.15384615, 0.53846154],\n",
       "       [0.38461538, 0.92307692],\n",
       "       [0.38461538, 0.        ],\n",
       "       [0.07692308, 0.61538462],\n",
       "       [0.38461538, 0.61538462],\n",
       "       [0.30769231, 0.53846154],\n",
       "       [0.30769231, 0.46153846],\n",
       "       [0.38461538, 0.69230769],\n",
       "       [0.23076923, 0.30769231],\n",
       "       [0.07692308, 1.        ],\n",
       "       [0.38461538, 0.84615385],\n",
       "       [0.30769231, 0.07692308],\n",
       "       [0.15384615, 0.23076923],\n",
       "       [0.15384615, 0.15384615],\n",
       "       [0.23076923, 0.38461538],\n",
       "       [0.23076923, 0.46153846],\n",
       "       [0.30769231, 0.30769231],\n",
       "       [0.23076923, 0.61538462],\n",
       "       [0.23076923, 0.84615385],\n",
       "       [0.15384615, 0.61538462],\n",
       "       [0.15384615, 0.76923077],\n",
       "       [0.15384615, 0.92307692],\n",
       "       [0.15384615, 0.30769231],\n",
       "       [0.15384615, 0.69230769],\n",
       "       [0.30769231, 0.92307692],\n",
       "       [0.46153846, 1.        ],\n",
       "       [0.23076923, 0.92307692],\n",
       "       [0.23076923, 0.76923077],\n",
       "       [0.46153846, 0.76923077],\n",
       "       [0.30769231, 0.84615385],\n",
       "       [0.38461538, 0.76923077],\n",
       "       [0.53846154, 0.84615385],\n",
       "       [0.46153846, 0.30769231]])"
      ]
     },
     "execution_count": 58,
     "metadata": {},
     "output_type": "execute_result"
    }
   ],
   "source": []
  },
  {
   "cell_type": "code",
   "execution_count": null,
   "metadata": {},
   "outputs": [],
   "source": []
  }
 ],
 "metadata": {
  "interpreter": {
   "hash": "ea203ce2c8e5ab8f0463e4d18f81717a94351a5cf0de61a703948cd7fff8ced2"
  },
  "kernelspec": {
   "display_name": "Python 3.7.12 ('tab2grid')",
   "language": "python",
   "name": "python3"
  },
  "language_info": {
   "codemirror_mode": {
    "name": "ipython",
    "version": 3
   },
   "file_extension": ".py",
   "mimetype": "text/x-python",
   "name": "python",
   "nbconvert_exporter": "python",
   "pygments_lexer": "ipython3",
   "version": "3.7.12"
  },
  "orig_nbformat": 4
 },
 "nbformat": 4,
 "nbformat_minor": 2
}
